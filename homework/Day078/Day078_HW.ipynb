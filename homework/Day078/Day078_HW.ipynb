{
 "cells": [
  {
   "cell_type": "markdown",
   "metadata": {
    "colab_type": "text",
    "id": "HadBMlEDCF40"
   },
   "source": [
    "## Work\n",
    "1. 請嘗試將 preproc_x 替換成以每筆資料的 min/max 進行標準化至 -1 ~ 1 間，再進行訓練\n",
    "2. 請嘗試將 mlp 疊更深 (e.g 5~10 層)，進行訓練後觀察 learning curve 的走勢\n",
    "3. (optional) 請改用 GPU 進行訓練 (如果你有 GPU 的話)，比較使用 CPU 與 GPU 的訓練速度"
   ]
  },
  {
   "cell_type": "code",
   "execution_count": 1,
   "metadata": {
    "colab": {
     "base_uri": "https://localhost:8080/",
     "height": 302
    },
    "colab_type": "code",
    "executionInfo": {
     "elapsed": 3107,
     "status": "ok",
     "timestamp": 1574609475001,
     "user": {
      "displayName": "林建宏",
      "photoUrl": "",
      "userId": "12416564836120847438"
     },
     "user_tz": -480
    },
    "id": "Wvphial_CF42",
    "outputId": "4a6bfdde-68c8-41f0-fe34-51336d661f9d"
   },
   "outputs": [
    {
     "name": "stdout",
     "output_type": "stream",
     "text": [
      "Sun Nov 24 15:31:13 2019       \n",
      "+-----------------------------------------------------------------------------+\n",
      "| NVIDIA-SMI 440.33.01    Driver Version: 418.67       CUDA Version: 10.1     |\n",
      "|-------------------------------+----------------------+----------------------+\n",
      "| GPU  Name        Persistence-M| Bus-Id        Disp.A | Volatile Uncorr. ECC |\n",
      "| Fan  Temp  Perf  Pwr:Usage/Cap|         Memory-Usage | GPU-Util  Compute M. |\n",
      "|===============================+======================+======================|\n",
      "|   0  Tesla K80           Off  | 00000000:00:04.0 Off |                    0 |\n",
      "| N/A   72C    P8    34W / 149W |      0MiB / 11441MiB |      0%      Default |\n",
      "+-------------------------------+----------------------+----------------------+\n",
      "                                                                               \n",
      "+-----------------------------------------------------------------------------+\n",
      "| Processes:                                                       GPU Memory |\n",
      "|  GPU       PID   Type   Process name                             Usage      |\n",
      "|=============================================================================|\n",
      "|  No running processes found                                                 |\n",
      "+-----------------------------------------------------------------------------+\n"
     ]
    }
   ],
   "source": [
    "## \n",
    "\"\"\"\n",
    "Your code here (optional)\n",
    "確認硬體資源\n",
    "\"\"\"\n",
    "!nvidia-smi"
   ]
  },
  {
   "cell_type": "code",
   "execution_count": 2,
   "metadata": {
    "colab": {
     "base_uri": "https://localhost:8080/",
     "height": 79
    },
    "colab_type": "code",
    "executionInfo": {
     "elapsed": 2577,
     "status": "ok",
     "timestamp": 1574609488274,
     "user": {
      "displayName": "林建宏",
      "photoUrl": "",
      "userId": "12416564836120847438"
     },
     "user_tz": -480
    },
    "id": "5mhVFq5UCF44",
    "outputId": "2225808e-b525-4470-bbfa-b00a83064749"
   },
   "outputs": [
    {
     "name": "stderr",
     "output_type": "stream",
     "text": [
      "Using TensorFlow backend.\n"
     ]
    },
    {
     "data": {
      "text/html": [
       "<p style=\"color: red;\">\n",
       "The default version of TensorFlow in Colab will soon switch to TensorFlow 2.x.<br>\n",
       "We recommend you <a href=\"https://www.tensorflow.org/guide/migrate\" target=\"_blank\">upgrade</a> now \n",
       "or ensure your notebook will continue to use TensorFlow 1.x via the <code>%tensorflow_version 1.x</code> magic:\n",
       "<a href=\"https://colab.research.google.com/notebooks/tensorflow_version.ipynb\" target=\"_blank\">more info</a>.</p>\n"
      ],
      "text/plain": [
       "<IPython.core.display.HTML object>"
      ]
     },
     "metadata": {
      "tags": []
     },
     "output_type": "display_data"
    }
   ],
   "source": [
    "import os\n",
    "import keras\n",
    "\n",
    "# 請嘗試設定 GPU：os.environ\n",
    "os.environ[\"CUDA_VISIBLE_DEVICES\"] = \"\""
   ]
  },
  {
   "cell_type": "code",
   "execution_count": 3,
   "metadata": {
    "colab": {
     "base_uri": "https://localhost:8080/",
     "height": 50
    },
    "colab_type": "code",
    "executionInfo": {
     "elapsed": 15968,
     "status": "ok",
     "timestamp": 1574609513266,
     "user": {
      "displayName": "林建宏",
      "photoUrl": "",
      "userId": "12416564836120847438"
     },
     "user_tz": -480
    },
    "id": "ueTW690UCF48",
    "outputId": "846ac582-b0f8-4d57-b855-db4e45e1eea4"
   },
   "outputs": [
    {
     "name": "stdout",
     "output_type": "stream",
     "text": [
      "Downloading data from https://www.cs.toronto.edu/~kriz/cifar-10-python.tar.gz\n",
      "170500096/170498071 [==============================] - 11s 0us/step\n"
     ]
    }
   ],
   "source": [
    "train, test = keras.datasets.cifar10.load_data()"
   ]
  },
  {
   "cell_type": "code",
   "execution_count": null,
   "metadata": {
    "colab": {},
    "colab_type": "code",
    "id": "GrahHfHkCF4-"
   },
   "outputs": [],
   "source": [
    "## 資料前處理\n",
    "\"\"\"\n",
    "Your code here\n",
    "\"\"\"\n",
    "def preproc_x(x, flatten= True):\n",
    "    x = 2*x / 255 -1\n",
    "    if flatten:\n",
    "        x = x.reshape(len(x), -1)\n",
    "    return x  \n",
    "\n",
    "def preproc_y(y ,num_classes=10):\n",
    "    if y.shape[-1] == 1:\n",
    "        y = keras.utils.to_categorical(y, num_classes)\n",
    "    return y"
   ]
  },
  {
   "cell_type": "code",
   "execution_count": null,
   "metadata": {
    "colab": {},
    "colab_type": "code",
    "id": "cfkVdU0OCF5A"
   },
   "outputs": [],
   "source": [
    "x_train, y_train = train\n",
    "x_test, y_test = test\n",
    "\n",
    "# Preproc the inputs\n",
    "x_train = preproc_x(x_train)\n",
    "x_test = preproc_x(x_test)\n",
    "\n",
    "# Preprc the outputs\n",
    "y_train = preproc_y(y_train)\n",
    "y_test = preproc_y(y_test)"
   ]
  },
  {
   "cell_type": "code",
   "execution_count": null,
   "metadata": {
    "colab": {},
    "colab_type": "code",
    "id": "zp5ImB4ACF5D"
   },
   "outputs": [],
   "source": [
    "\"\"\"Code Here\n",
    "建立你的神經網路\n",
    "\"\"\"\n",
    "def build_mlp():\n",
    "    pass\n",
    "\n",
    "model.summary()"
   ]
  },
  {
   "cell_type": "code",
   "execution_count": null,
   "metadata": {
    "colab": {},
    "colab_type": "code",
    "id": "CmMj7m9fCF5F"
   },
   "outputs": [],
   "source": [
    "def build_mlp(input_shape, output_units=10, num_neurons=[512, 256, 128, 128, 64, 64, 32, 32]):\n",
    "    input_layer = keras.layers.Input(input_shape)\n",
    "    \n",
    "    for i, n_units in enumerate(num_neurons):\n",
    "        if i == 0:\n",
    "            x = keras.layers.Dense(units=n_units, activation=\"relu\", name=\"hidden_layer\"+str(i+1))(input_layer)\n",
    "        else:\n",
    "            x = keras.layers.Dense(units=n_units, activation=\"relu\", name=\"hidden_layer\"+str(i+1))(x)\n",
    "    \n",
    "    out = keras.layers.Dense(units=output_units, activation=\"softmax\", name=\"output\")(x)\n",
    "    \n",
    "    model = keras.models.Model(inputs=[input_layer], outputs=[out])\n",
    "    return model"
   ]
  },
  {
   "cell_type": "code",
   "execution_count": 7,
   "metadata": {
    "colab": {
     "base_uri": "https://localhost:8080/",
     "height": 608
    },
    "colab_type": "code",
    "executionInfo": {
     "elapsed": 1080,
     "status": "ok",
     "timestamp": 1574609586818,
     "user": {
      "displayName": "林建宏",
      "photoUrl": "",
      "userId": "12416564836120847438"
     },
     "user_tz": -480
    },
    "id": "6kOPG2MyCF5H",
    "outputId": "990a7e2b-a004-4db4-b94a-d9ca3e069bcd"
   },
   "outputs": [
    {
     "name": "stdout",
     "output_type": "stream",
     "text": [
      "WARNING:tensorflow:From /usr/local/lib/python3.6/dist-packages/keras/backend/tensorflow_backend.py:66: The name tf.get_default_graph is deprecated. Please use tf.compat.v1.get_default_graph instead.\n",
      "\n",
      "WARNING:tensorflow:From /usr/local/lib/python3.6/dist-packages/keras/backend/tensorflow_backend.py:541: The name tf.placeholder is deprecated. Please use tf.compat.v1.placeholder instead.\n",
      "\n",
      "WARNING:tensorflow:From /usr/local/lib/python3.6/dist-packages/keras/backend/tensorflow_backend.py:4432: The name tf.random_uniform is deprecated. Please use tf.random.uniform instead.\n",
      "\n",
      "Model: \"model_1\"\n",
      "_________________________________________________________________\n",
      "Layer (type)                 Output Shape              Param #   \n",
      "=================================================================\n",
      "input_1 (InputLayer)         (None, 3072)              0         \n",
      "_________________________________________________________________\n",
      "hidden_layer1 (Dense)        (None, 512)               1573376   \n",
      "_________________________________________________________________\n",
      "hidden_layer2 (Dense)        (None, 256)               131328    \n",
      "_________________________________________________________________\n",
      "hidden_layer3 (Dense)        (None, 128)               32896     \n",
      "_________________________________________________________________\n",
      "hidden_layer4 (Dense)        (None, 128)               16512     \n",
      "_________________________________________________________________\n",
      "hidden_layer5 (Dense)        (None, 64)                8256      \n",
      "_________________________________________________________________\n",
      "hidden_layer6 (Dense)        (None, 64)                4160      \n",
      "_________________________________________________________________\n",
      "hidden_layer7 (Dense)        (None, 32)                2080      \n",
      "_________________________________________________________________\n",
      "hidden_layer8 (Dense)        (None, 32)                1056      \n",
      "_________________________________________________________________\n",
      "output (Dense)               (None, 10)                330       \n",
      "=================================================================\n",
      "Total params: 1,769,994\n",
      "Trainable params: 1,769,994\n",
      "Non-trainable params: 0\n",
      "_________________________________________________________________\n"
     ]
    }
   ],
   "source": [
    "model = build_mlp(input_shape=x_train.shape[1:])\n",
    "model.summary()"
   ]
  },
  {
   "cell_type": "code",
   "execution_count": null,
   "metadata": {
    "colab": {},
    "colab_type": "code",
    "id": "RUHB83gRCF5J"
   },
   "outputs": [],
   "source": [
    "## 超參數設定\n",
    "LEARNING_RATE = 0.001\n",
    "EPOCHS = 100\n",
    "BATCH_SIZE = 256"
   ]
  },
  {
   "cell_type": "code",
   "execution_count": 9,
   "metadata": {
    "colab": {
     "base_uri": "https://localhost:8080/",
     "height": 104
    },
    "colab_type": "code",
    "executionInfo": {
     "elapsed": 1101,
     "status": "ok",
     "timestamp": 1574609605355,
     "user": {
      "displayName": "林建宏",
      "photoUrl": "",
      "userId": "12416564836120847438"
     },
     "user_tz": -480
    },
    "id": "Iaq67ZCiCF5L",
    "outputId": "869ea99f-b9ad-46b7-bfd6-0fe31a286ddf"
   },
   "outputs": [
    {
     "name": "stdout",
     "output_type": "stream",
     "text": [
      "WARNING:tensorflow:From /usr/local/lib/python3.6/dist-packages/keras/optimizers.py:793: The name tf.train.Optimizer is deprecated. Please use tf.compat.v1.train.Optimizer instead.\n",
      "\n",
      "WARNING:tensorflow:From /usr/local/lib/python3.6/dist-packages/keras/backend/tensorflow_backend.py:3576: The name tf.log is deprecated. Please use tf.math.log instead.\n",
      "\n"
     ]
    }
   ],
   "source": [
    "optimizer = keras.optimizers.Adam(lr=LEARNING_RATE)\n",
    "model.compile(loss=\"categorical_crossentropy\", metrics=[\"accuracy\"], optimizer=optimizer)"
   ]
  },
  {
   "cell_type": "code",
   "execution_count": 10,
   "metadata": {
    "colab": {
     "base_uri": "https://localhost:8080/",
     "height": 1000
    },
    "colab_type": "code",
    "executionInfo": {
     "elapsed": 1345508,
     "status": "ok",
     "timestamp": 1574610955899,
     "user": {
      "displayName": "林建宏",
      "photoUrl": "",
      "userId": "12416564836120847438"
     },
     "user_tz": -480
    },
    "id": "uw3Pm2aWCF5N",
    "outputId": "ce3de7d7-8e65-4dc3-ac8f-ed8b6a29fd78"
   },
   "outputs": [
    {
     "name": "stdout",
     "output_type": "stream",
     "text": [
      "WARNING:tensorflow:From /usr/local/lib/python3.6/dist-packages/tensorflow_core/python/ops/math_grad.py:1424: where (from tensorflow.python.ops.array_ops) is deprecated and will be removed in a future version.\n",
      "Instructions for updating:\n",
      "Use tf.where in 2.0, which has the same broadcast rule as np.where\n",
      "WARNING:tensorflow:From /usr/local/lib/python3.6/dist-packages/keras/backend/tensorflow_backend.py:1033: The name tf.assign_add is deprecated. Please use tf.compat.v1.assign_add instead.\n",
      "\n",
      "WARNING:tensorflow:From /usr/local/lib/python3.6/dist-packages/keras/backend/tensorflow_backend.py:1020: The name tf.assign is deprecated. Please use tf.compat.v1.assign instead.\n",
      "\n",
      "WARNING:tensorflow:From /usr/local/lib/python3.6/dist-packages/keras/backend/tensorflow_backend.py:3005: The name tf.Session is deprecated. Please use tf.compat.v1.Session instead.\n",
      "\n",
      "Train on 50000 samples, validate on 10000 samples\n",
      "Epoch 1/100\n",
      "WARNING:tensorflow:From /usr/local/lib/python3.6/dist-packages/keras/backend/tensorflow_backend.py:190: The name tf.get_default_session is deprecated. Please use tf.compat.v1.get_default_session instead.\n",
      "\n",
      "WARNING:tensorflow:From /usr/local/lib/python3.6/dist-packages/keras/backend/tensorflow_backend.py:197: The name tf.ConfigProto is deprecated. Please use tf.compat.v1.ConfigProto instead.\n",
      "\n",
      "WARNING:tensorflow:From /usr/local/lib/python3.6/dist-packages/keras/backend/tensorflow_backend.py:207: The name tf.global_variables is deprecated. Please use tf.compat.v1.global_variables instead.\n",
      "\n",
      "WARNING:tensorflow:From /usr/local/lib/python3.6/dist-packages/keras/backend/tensorflow_backend.py:216: The name tf.is_variable_initialized is deprecated. Please use tf.compat.v1.is_variable_initialized instead.\n",
      "\n",
      "WARNING:tensorflow:From /usr/local/lib/python3.6/dist-packages/keras/backend/tensorflow_backend.py:223: The name tf.variables_initializer is deprecated. Please use tf.compat.v1.variables_initializer instead.\n",
      "\n",
      "50000/50000 [==============================] - 14s 286us/step - loss: 2.2559 - acc: 0.1393 - val_loss: 2.2118 - val_acc: 0.1745\n",
      "Epoch 2/100\n",
      "50000/50000 [==============================] - 13s 267us/step - loss: 2.1851 - acc: 0.1813 - val_loss: 2.1686 - val_acc: 0.1871\n",
      "Epoch 3/100\n",
      "50000/50000 [==============================] - 13s 264us/step - loss: 2.1223 - acc: 0.2155 - val_loss: 2.1404 - val_acc: 0.1993\n",
      "Epoch 4/100\n",
      "50000/50000 [==============================] - 13s 265us/step - loss: 2.0654 - acc: 0.2424 - val_loss: 2.0402 - val_acc: 0.2601\n",
      "Epoch 5/100\n",
      "50000/50000 [==============================] - 13s 268us/step - loss: 2.0210 - acc: 0.2626 - val_loss: 2.0236 - val_acc: 0.2622\n",
      "Epoch 6/100\n",
      "50000/50000 [==============================] - 13s 267us/step - loss: 1.9844 - acc: 0.2805 - val_loss: 2.0023 - val_acc: 0.2671\n",
      "Epoch 7/100\n",
      "50000/50000 [==============================] - 13s 268us/step - loss: 1.9597 - acc: 0.2887 - val_loss: 1.9971 - val_acc: 0.2739\n",
      "Epoch 8/100\n",
      "50000/50000 [==============================] - 14s 275us/step - loss: 1.9272 - acc: 0.3022 - val_loss: 1.9972 - val_acc: 0.2715\n",
      "Epoch 9/100\n",
      "50000/50000 [==============================] - 14s 270us/step - loss: 1.9104 - acc: 0.3105 - val_loss: 1.9724 - val_acc: 0.2856\n",
      "Epoch 10/100\n",
      "50000/50000 [==============================] - 13s 263us/step - loss: 1.8860 - acc: 0.3208 - val_loss: 1.9797 - val_acc: 0.2803\n",
      "Epoch 11/100\n",
      "50000/50000 [==============================] - 13s 264us/step - loss: 1.8567 - acc: 0.3304 - val_loss: 1.9810 - val_acc: 0.2892\n",
      "Epoch 12/100\n",
      "50000/50000 [==============================] - 13s 262us/step - loss: 1.8353 - acc: 0.3403 - val_loss: 1.9803 - val_acc: 0.2950\n",
      "Epoch 13/100\n",
      "50000/50000 [==============================] - 13s 263us/step - loss: 1.8118 - acc: 0.3484 - val_loss: 2.0052 - val_acc: 0.2882\n",
      "Epoch 14/100\n",
      "50000/50000 [==============================] - 13s 262us/step - loss: 1.7838 - acc: 0.3582 - val_loss: 1.9816 - val_acc: 0.2890\n",
      "Epoch 15/100\n",
      "50000/50000 [==============================] - 13s 262us/step - loss: 1.7580 - acc: 0.3668 - val_loss: 1.9834 - val_acc: 0.2975\n",
      "Epoch 16/100\n",
      "50000/50000 [==============================] - 13s 261us/step - loss: 1.7279 - acc: 0.3827 - val_loss: 1.9976 - val_acc: 0.2984\n",
      "Epoch 17/100\n",
      "50000/50000 [==============================] - 13s 264us/step - loss: 1.6969 - acc: 0.3930 - val_loss: 1.9884 - val_acc: 0.3037\n",
      "Epoch 18/100\n",
      "50000/50000 [==============================] - 13s 265us/step - loss: 1.6590 - acc: 0.4057 - val_loss: 1.9826 - val_acc: 0.3051\n",
      "Epoch 19/100\n",
      "50000/50000 [==============================] - 13s 264us/step - loss: 1.6390 - acc: 0.4137 - val_loss: 2.0169 - val_acc: 0.3097\n",
      "Epoch 20/100\n",
      "50000/50000 [==============================] - 13s 264us/step - loss: 1.6083 - acc: 0.4254 - val_loss: 2.0549 - val_acc: 0.3069\n",
      "Epoch 21/100\n",
      "50000/50000 [==============================] - 13s 267us/step - loss: 1.5924 - acc: 0.4304 - val_loss: 2.0286 - val_acc: 0.3046\n",
      "Epoch 22/100\n",
      "50000/50000 [==============================] - 13s 269us/step - loss: 1.5616 - acc: 0.4428 - val_loss: 2.0640 - val_acc: 0.3040\n",
      "Epoch 23/100\n",
      "50000/50000 [==============================] - 13s 269us/step - loss: 1.5219 - acc: 0.4583 - val_loss: 2.0948 - val_acc: 0.3010\n",
      "Epoch 24/100\n",
      "50000/50000 [==============================] - 13s 267us/step - loss: 1.4993 - acc: 0.4643 - val_loss: 2.0985 - val_acc: 0.3001\n",
      "Epoch 25/100\n",
      "50000/50000 [==============================] - 14s 272us/step - loss: 1.4776 - acc: 0.4708 - val_loss: 2.1660 - val_acc: 0.3027\n",
      "Epoch 26/100\n",
      "50000/50000 [==============================] - 14s 271us/step - loss: 1.4293 - acc: 0.4906 - val_loss: 2.1482 - val_acc: 0.3033\n",
      "Epoch 27/100\n",
      "50000/50000 [==============================] - 14s 274us/step - loss: 1.4064 - acc: 0.4935 - val_loss: 2.1825 - val_acc: 0.2954\n",
      "Epoch 28/100\n",
      "50000/50000 [==============================] - 14s 274us/step - loss: 1.3863 - acc: 0.5023 - val_loss: 2.2181 - val_acc: 0.3079\n",
      "Epoch 29/100\n",
      "50000/50000 [==============================] - 14s 274us/step - loss: 1.3696 - acc: 0.5108 - val_loss: 2.1582 - val_acc: 0.3041\n",
      "Epoch 30/100\n",
      "50000/50000 [==============================] - 14s 277us/step - loss: 1.3416 - acc: 0.5185 - val_loss: 2.3020 - val_acc: 0.3014\n",
      "Epoch 31/100\n",
      "50000/50000 [==============================] - 14s 279us/step - loss: 1.3161 - acc: 0.5283 - val_loss: 2.2740 - val_acc: 0.3024\n",
      "Epoch 32/100\n",
      "50000/50000 [==============================] - 14s 275us/step - loss: 1.2759 - acc: 0.5428 - val_loss: 2.3654 - val_acc: 0.2955\n",
      "Epoch 33/100\n",
      "50000/50000 [==============================] - 14s 274us/step - loss: 1.2467 - acc: 0.5519 - val_loss: 2.4071 - val_acc: 0.3028\n",
      "Epoch 34/100\n",
      "50000/50000 [==============================] - 14s 275us/step - loss: 1.2174 - acc: 0.5627 - val_loss: 2.3440 - val_acc: 0.3021\n",
      "Epoch 35/100\n",
      "50000/50000 [==============================] - 13s 269us/step - loss: 1.1843 - acc: 0.5749 - val_loss: 2.4225 - val_acc: 0.3020\n",
      "Epoch 36/100\n",
      "50000/50000 [==============================] - 14s 270us/step - loss: 1.1733 - acc: 0.5793 - val_loss: 2.4960 - val_acc: 0.2936\n",
      "Epoch 37/100\n",
      "50000/50000 [==============================] - 14s 273us/step - loss: 1.1427 - acc: 0.5895 - val_loss: 2.7016 - val_acc: 0.2806\n",
      "Epoch 38/100\n",
      "50000/50000 [==============================] - 14s 272us/step - loss: 1.1237 - acc: 0.5950 - val_loss: 2.6112 - val_acc: 0.2889\n",
      "Epoch 39/100\n",
      "50000/50000 [==============================] - 14s 271us/step - loss: 1.0806 - acc: 0.6105 - val_loss: 2.7297 - val_acc: 0.2897\n",
      "Epoch 40/100\n",
      "50000/50000 [==============================] - 14s 273us/step - loss: 1.0702 - acc: 0.6168 - val_loss: 2.5670 - val_acc: 0.2901\n",
      "Epoch 41/100\n",
      "50000/50000 [==============================] - 14s 273us/step - loss: 1.0473 - acc: 0.6230 - val_loss: 2.7082 - val_acc: 0.2926\n",
      "Epoch 42/100\n",
      "50000/50000 [==============================] - 14s 274us/step - loss: 1.0251 - acc: 0.6318 - val_loss: 2.8797 - val_acc: 0.2801\n",
      "Epoch 43/100\n",
      "50000/50000 [==============================] - 14s 274us/step - loss: 1.0063 - acc: 0.6377 - val_loss: 2.6943 - val_acc: 0.2914\n",
      "Epoch 44/100\n",
      "50000/50000 [==============================] - 14s 271us/step - loss: 0.9922 - acc: 0.6445 - val_loss: 2.8107 - val_acc: 0.2911\n",
      "Epoch 45/100\n",
      "50000/50000 [==============================] - 14s 272us/step - loss: 0.9485 - acc: 0.6576 - val_loss: 2.8652 - val_acc: 0.2856\n",
      "Epoch 46/100\n",
      "50000/50000 [==============================] - 14s 272us/step - loss: 0.9399 - acc: 0.6617 - val_loss: 2.9250 - val_acc: 0.2844\n",
      "Epoch 47/100\n",
      "50000/50000 [==============================] - 14s 274us/step - loss: 0.9206 - acc: 0.6664 - val_loss: 3.0139 - val_acc: 0.2820\n",
      "Epoch 48/100\n",
      "50000/50000 [==============================] - 14s 274us/step - loss: 0.9008 - acc: 0.6756 - val_loss: 3.0481 - val_acc: 0.2843\n",
      "Epoch 49/100\n",
      "50000/50000 [==============================] - 14s 275us/step - loss: 0.8860 - acc: 0.6805 - val_loss: 3.1863 - val_acc: 0.2875\n",
      "Epoch 50/100\n",
      "50000/50000 [==============================] - 14s 274us/step - loss: 0.8564 - acc: 0.6906 - val_loss: 3.0960 - val_acc: 0.2834\n",
      "Epoch 51/100\n",
      "50000/50000 [==============================] - 14s 276us/step - loss: 0.8594 - acc: 0.6918 - val_loss: 3.0856 - val_acc: 0.2820\n",
      "Epoch 52/100\n",
      "50000/50000 [==============================] - 14s 273us/step - loss: 0.8235 - acc: 0.7041 - val_loss: 3.3292 - val_acc: 0.2830\n",
      "Epoch 53/100\n",
      "50000/50000 [==============================] - 14s 273us/step - loss: 0.8096 - acc: 0.7084 - val_loss: 3.3963 - val_acc: 0.2759\n",
      "Epoch 54/100\n",
      "50000/50000 [==============================] - 14s 279us/step - loss: 0.8112 - acc: 0.7105 - val_loss: 3.1711 - val_acc: 0.2840\n",
      "Epoch 55/100\n",
      "50000/50000 [==============================] - 14s 275us/step - loss: 0.7635 - acc: 0.7256 - val_loss: 3.2717 - val_acc: 0.2764\n",
      "Epoch 56/100\n",
      "50000/50000 [==============================] - 14s 277us/step - loss: 0.7791 - acc: 0.7210 - val_loss: 3.3405 - val_acc: 0.2801\n",
      "Epoch 57/100\n",
      "50000/50000 [==============================] - 14s 273us/step - loss: 0.7448 - acc: 0.7331 - val_loss: 3.3987 - val_acc: 0.2836\n",
      "Epoch 58/100\n",
      "50000/50000 [==============================] - 14s 273us/step - loss: 0.7397 - acc: 0.7324 - val_loss: 3.3479 - val_acc: 0.2784\n",
      "Epoch 59/100\n",
      "50000/50000 [==============================] - 14s 271us/step - loss: 0.7118 - acc: 0.7452 - val_loss: 3.5734 - val_acc: 0.2773\n",
      "Epoch 60/100\n",
      "50000/50000 [==============================] - 13s 261us/step - loss: 0.6878 - acc: 0.7519 - val_loss: 3.6289 - val_acc: 0.2798\n",
      "Epoch 61/100\n",
      "50000/50000 [==============================] - 13s 263us/step - loss: 0.6680 - acc: 0.7601 - val_loss: 3.8207 - val_acc: 0.2767\n",
      "Epoch 62/100\n",
      "50000/50000 [==============================] - 14s 272us/step - loss: 0.6777 - acc: 0.7567 - val_loss: 3.8158 - val_acc: 0.2668\n",
      "Epoch 63/100\n",
      "50000/50000 [==============================] - 13s 264us/step - loss: 0.6966 - acc: 0.7514 - val_loss: 3.7155 - val_acc: 0.2785\n",
      "Epoch 64/100\n",
      "50000/50000 [==============================] - 13s 262us/step - loss: 0.6464 - acc: 0.7692 - val_loss: 3.6852 - val_acc: 0.2825\n",
      "Epoch 65/100\n",
      "50000/50000 [==============================] - 13s 263us/step - loss: 0.6531 - acc: 0.7657 - val_loss: 3.7723 - val_acc: 0.2864\n",
      "Epoch 66/100\n",
      "50000/50000 [==============================] - 13s 261us/step - loss: 0.6420 - acc: 0.7686 - val_loss: 3.9097 - val_acc: 0.2806\n",
      "Epoch 67/100\n",
      "50000/50000 [==============================] - 13s 264us/step - loss: 0.5866 - acc: 0.7899 - val_loss: 4.0179 - val_acc: 0.2812\n",
      "Epoch 68/100\n",
      "50000/50000 [==============================] - 13s 261us/step - loss: 0.6203 - acc: 0.7780 - val_loss: 3.9738 - val_acc: 0.2740\n",
      "Epoch 69/100\n",
      "50000/50000 [==============================] - 13s 263us/step - loss: 0.6049 - acc: 0.7826 - val_loss: 4.1598 - val_acc: 0.2756\n",
      "Epoch 70/100\n",
      "50000/50000 [==============================] - 13s 262us/step - loss: 0.6080 - acc: 0.7819 - val_loss: 3.9873 - val_acc: 0.2769\n",
      "Epoch 71/100\n",
      "50000/50000 [==============================] - 13s 262us/step - loss: 0.5480 - acc: 0.8038 - val_loss: 4.2451 - val_acc: 0.2768\n",
      "Epoch 72/100\n",
      "50000/50000 [==============================] - 13s 264us/step - loss: 0.5429 - acc: 0.8066 - val_loss: 3.9575 - val_acc: 0.2706\n",
      "Epoch 73/100\n",
      "50000/50000 [==============================] - 13s 262us/step - loss: 0.5462 - acc: 0.8056 - val_loss: 4.2093 - val_acc: 0.2805\n",
      "Epoch 74/100\n",
      "50000/50000 [==============================] - 13s 263us/step - loss: 0.5337 - acc: 0.8099 - val_loss: 4.3175 - val_acc: 0.2717\n",
      "Epoch 75/100\n",
      "50000/50000 [==============================] - 13s 264us/step - loss: 0.5680 - acc: 0.7986 - val_loss: 4.2607 - val_acc: 0.2737\n",
      "Epoch 76/100\n",
      "50000/50000 [==============================] - 13s 267us/step - loss: 0.5557 - acc: 0.8030 - val_loss: 3.9619 - val_acc: 0.2810\n",
      "Epoch 77/100\n",
      "50000/50000 [==============================] - 13s 268us/step - loss: 0.5360 - acc: 0.8100 - val_loss: 4.2474 - val_acc: 0.2752\n",
      "Epoch 78/100\n",
      "50000/50000 [==============================] - 13s 266us/step - loss: 0.5151 - acc: 0.8178 - val_loss: 4.4353 - val_acc: 0.2708\n",
      "Epoch 79/100\n",
      "50000/50000 [==============================] - 13s 268us/step - loss: 0.5087 - acc: 0.8213 - val_loss: 4.1398 - val_acc: 0.2764\n",
      "Epoch 80/100\n",
      "50000/50000 [==============================] - 13s 266us/step - loss: 0.4937 - acc: 0.8249 - val_loss: 4.5302 - val_acc: 0.2752\n",
      "Epoch 81/100\n",
      "50000/50000 [==============================] - 13s 266us/step - loss: 0.4693 - acc: 0.8332 - val_loss: 4.7194 - val_acc: 0.2719\n",
      "Epoch 82/100\n",
      "50000/50000 [==============================] - 13s 265us/step - loss: 0.4938 - acc: 0.8257 - val_loss: 4.7212 - val_acc: 0.2757\n",
      "Epoch 83/100\n",
      "50000/50000 [==============================] - 14s 277us/step - loss: 0.4704 - acc: 0.8341 - val_loss: 4.5207 - val_acc: 0.2721\n",
      "Epoch 84/100\n",
      "50000/50000 [==============================] - 13s 266us/step - loss: 0.4595 - acc: 0.8370 - val_loss: 4.6116 - val_acc: 0.2774\n",
      "Epoch 85/100\n",
      "50000/50000 [==============================] - 13s 268us/step - loss: 0.5024 - acc: 0.8229 - val_loss: 4.3880 - val_acc: 0.2695\n",
      "Epoch 86/100\n",
      "50000/50000 [==============================] - 13s 267us/step - loss: 0.4480 - acc: 0.8421 - val_loss: 4.7152 - val_acc: 0.2685\n",
      "Epoch 87/100\n",
      "50000/50000 [==============================] - 13s 266us/step - loss: 0.4187 - acc: 0.8515 - val_loss: 4.7576 - val_acc: 0.2739\n",
      "Epoch 88/100\n",
      "50000/50000 [==============================] - 13s 266us/step - loss: 0.4371 - acc: 0.8465 - val_loss: 4.8558 - val_acc: 0.2766\n",
      "Epoch 89/100\n",
      "50000/50000 [==============================] - 13s 264us/step - loss: 0.4228 - acc: 0.8522 - val_loss: 5.0154 - val_acc: 0.2756\n",
      "Epoch 90/100\n",
      "50000/50000 [==============================] - 13s 264us/step - loss: 0.4483 - acc: 0.8435 - val_loss: 4.8427 - val_acc: 0.2676\n",
      "Epoch 91/100\n",
      "50000/50000 [==============================] - 13s 263us/step - loss: 0.4215 - acc: 0.8523 - val_loss: 4.8274 - val_acc: 0.2800\n",
      "Epoch 92/100\n",
      "50000/50000 [==============================] - 13s 267us/step - loss: 0.4148 - acc: 0.8539 - val_loss: 4.6314 - val_acc: 0.2705\n",
      "Epoch 93/100\n",
      "50000/50000 [==============================] - 13s 265us/step - loss: 0.4138 - acc: 0.8547 - val_loss: 4.8579 - val_acc: 0.2730\n",
      "Epoch 94/100\n",
      "50000/50000 [==============================] - 13s 267us/step - loss: 0.3761 - acc: 0.8680 - val_loss: 4.9710 - val_acc: 0.2767\n",
      "Epoch 95/100\n",
      "50000/50000 [==============================] - 13s 265us/step - loss: 0.3779 - acc: 0.8694 - val_loss: 5.0620 - val_acc: 0.2687\n",
      "Epoch 96/100\n",
      "50000/50000 [==============================] - 13s 263us/step - loss: 0.4262 - acc: 0.8512 - val_loss: 4.8919 - val_acc: 0.2724\n",
      "Epoch 97/100\n",
      "50000/50000 [==============================] - 13s 264us/step - loss: 0.3885 - acc: 0.8648 - val_loss: 5.0814 - val_acc: 0.2769\n",
      "Epoch 98/100\n",
      "50000/50000 [==============================] - 13s 266us/step - loss: 0.3681 - acc: 0.8713 - val_loss: 5.1494 - val_acc: 0.2647\n",
      "Epoch 99/100\n",
      "50000/50000 [==============================] - 14s 272us/step - loss: 0.3850 - acc: 0.8649 - val_loss: 5.1677 - val_acc: 0.2688\n",
      "Epoch 100/100\n",
      "50000/50000 [==============================] - 14s 273us/step - loss: 0.3701 - acc: 0.8712 - val_loss: 5.2498 - val_acc: 0.2680\n"
     ]
    },
    {
     "data": {
      "text/plain": [
       "<keras.callbacks.History at 0x7fba78db4908>"
      ]
     },
     "execution_count": 10,
     "metadata": {
      "tags": []
     },
     "output_type": "execute_result"
    }
   ],
   "source": [
    "model.fit(x_train, y_train, \n",
    "          epochs=EPOCHS, \n",
    "          batch_size=BATCH_SIZE, \n",
    "          validation_data=(x_test, y_test), \n",
    "          shuffle=True)"
   ]
  },
  {
   "cell_type": "code",
   "execution_count": 11,
   "metadata": {
    "colab": {
     "base_uri": "https://localhost:8080/",
     "height": 545
    },
    "colab_type": "code",
    "executionInfo": {
     "elapsed": 2301,
     "status": "ok",
     "timestamp": 1574610979950,
     "user": {
      "displayName": "林建宏",
      "photoUrl": "",
      "userId": "12416564836120847438"
     },
     "user_tz": -480
    },
    "id": "PGOzOpRVCF5P",
    "outputId": "a95ae62b-7236-408e-af39-5b9782ee681a"
   },
   "outputs": [
    {
     "data": {
      "image/png": "[encoded data removed]",
      "text/plain": [
       "<Figure size 432x288 with 1 Axes>"
      ]
     },
     "metadata": {
      "tags": []
     },
     "output_type": "display_data"
    },
    {
     "data": {
      "image/png": "[encoded data removed]",
      "text/plain": [
       "<Figure size 432x288 with 1 Axes>"
      ]
     },
     "metadata": {
      "tags": []
     },
     "output_type": "display_data"
    }
   ],
   "source": [
    "import matplotlib.pyplot as plt\n",
    "\n",
    "\n",
    "train_loss = model.history.history[\"loss\"]\n",
    "valid_loss = model.history.history[\"val_loss\"]\n",
    "\n",
    "train_acc = model.history.history[\"acc\"]\n",
    "valid_acc = model.history.history[\"val_acc\"]\n",
    "\n",
    "plt.plot(range(len(train_loss)), train_loss, label=\"train loss\")\n",
    "plt.plot(range(len(valid_loss)), valid_loss, label=\"valid loss\")\n",
    "plt.legend()\n",
    "plt.title(\"Loss\")\n",
    "plt.show()\n",
    "\n",
    "plt.plot(range(len(train_acc)), train_acc, label=\"train accuracy\")\n",
    "plt.plot(range(len(valid_acc)), valid_acc, label=\"valid accuracy\")\n",
    "plt.legend()\n",
    "plt.title(\"Accuracy\")\n",
    "plt.show()"
   ]
  }
 ],
 "metadata": {
  "accelerator": "GPU",
  "colab": {
   "collapsed_sections": [],
   "name": "Day078_HW.ipynb",
   "provenance": []
  },
  "kernelspec": {
   "display_name": "Python 3",
   "language": "python",
   "name": "python3"
  },
  "language_info": {
   "codemirror_mode": {
    "name": "ipython",
    "version": 3
   },
   "file_extension": ".py",
   "mimetype": "text/x-python",
   "name": "python",
   "nbconvert_exporter": "python",
   "pygments_lexer": "ipython3",
   "version": "3.7.4"
  }
 },
 "nbformat": 4,
 "nbformat_minor": 4
}
