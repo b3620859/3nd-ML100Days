{
 "cells": [
  {
   "cell_type": "markdown",
   "metadata": {
    "colab_type": "text",
    "id": "YkuezZ8bVqcS"
   },
   "source": [
    "## Work\n",
    "1. 試比較 save_best_only 與否的差異\n",
    "2. 請僅存入將 save_weights_only 設定為 True, 並嘗試 reset ipynb 並將模型與權重重新建回並預測 x_test"
   ]
  },
  {
   "cell_type": "code",
   "execution_count": null,
   "metadata": {
    "colab": {},
    "colab_type": "code",
    "id": "fo5zZn28VqcV"
   },
   "outputs": [],
   "source": [
    "import warnings\n",
    "warnings.filterwarnings('ignore')"
   ]
  },
  {
   "cell_type": "code",
   "execution_count": 2,
   "metadata": {
    "colab": {
     "base_uri": "https://localhost:8080/",
     "height": 79
    },
    "colab_type": "code",
    "executionInfo": {
     "elapsed": 5934,
     "status": "ok",
     "timestamp": 1575453438217,
     "user": {
      "displayName": "林建宏",
      "photoUrl": "",
      "userId": "12416564836120847438"
     },
     "user_tz": -480
    },
    "id": "3s8E2CEyVqcY",
    "outputId": "cf9fb57b-8f5f-4f64-f94a-0b57510c42eb"
   },
   "outputs": [
    {
     "name": "stderr",
     "output_type": "stream",
     "text": [
      "Using TensorFlow backend.\n"
     ]
    },
    {
     "data": {
      "text/html": [
       "<p style=\"color: red;\">\n",
       "The default version of TensorFlow in Colab will soon switch to TensorFlow 2.x.<br>\n",
       "We recommend you <a href=\"https://www.tensorflow.org/guide/migrate\" target=\"_blank\">upgrade</a> now \n",
       "or ensure your notebook will continue to use TensorFlow 1.x via the <code>%tensorflow_version 1.x</code> magic:\n",
       "<a href=\"https://colab.research.google.com/notebooks/tensorflow_version.ipynb\" target=\"_blank\">more info</a>.</p>\n"
      ],
      "text/plain": [
       "<IPython.core.display.HTML object>"
      ]
     },
     "metadata": {
      "tags": []
     },
     "output_type": "display_data"
    }
   ],
   "source": [
    "import os\n",
    "import keras\n",
    "\n",
    "# Disable GPU\n",
    "os.environ[\"CUDA_VISIBLE_DEVICES\"] = \"0\""
   ]
  },
  {
   "cell_type": "code",
   "execution_count": 3,
   "metadata": {
    "colab": {
     "base_uri": "https://localhost:8080/",
     "height": 50
    },
    "colab_type": "code",
    "executionInfo": {
     "elapsed": 18601,
     "status": "ok",
     "timestamp": 1575453458392,
     "user": {
      "displayName": "林建宏",
      "photoUrl": "",
      "userId": "12416564836120847438"
     },
     "user_tz": -480
    },
    "id": "eDc1hl8pVqcb",
    "outputId": "f3db166b-a61e-410d-be8c-6e064cfece7a"
   },
   "outputs": [
    {
     "name": "stdout",
     "output_type": "stream",
     "text": [
      "Downloading data from https://www.cs.toronto.edu/~kriz/cifar-10-python.tar.gz\n",
      "170500096/170498071 [==============================] - 11s 0us/step\n"
     ]
    }
   ],
   "source": [
    "train, test = keras.datasets.cifar10.load_data()"
   ]
  },
  {
   "cell_type": "code",
   "execution_count": null,
   "metadata": {
    "colab": {},
    "colab_type": "code",
    "id": "GLXFUHdoVqcd"
   },
   "outputs": [],
   "source": [
    "## 資料前處理\n",
    "def preproc_x(x, flatten=True):\n",
    "    x = x / 255.\n",
    "    if flatten:\n",
    "        x = x.reshape((len(x), -1))\n",
    "    return x\n",
    "\n",
    "def preproc_y(y, num_classes=10):\n",
    "    if y.shape[-1] == 1:\n",
    "        y = keras.utils.to_categorical(y, num_classes)\n",
    "    return y    "
   ]
  },
  {
   "cell_type": "code",
   "execution_count": null,
   "metadata": {
    "colab": {},
    "colab_type": "code",
    "id": "Ts0CIsuAVqci"
   },
   "outputs": [],
   "source": [
    "x_train, y_train = train\n",
    "x_test, y_test = test\n",
    "\n",
    "# Preproc the inputs\n",
    "x_train = preproc_x(x_train)\n",
    "x_test = preproc_x(x_test)\n",
    "\n",
    "# Preprc the outputs\n",
    "y_train = preproc_y(y_train)\n",
    "y_test = preproc_y(y_test)"
   ]
  },
  {
   "cell_type": "code",
   "execution_count": null,
   "metadata": {
    "colab": {},
    "colab_type": "code",
    "id": "ji6CVIpxVqck"
   },
   "outputs": [],
   "source": [
    "from keras.layers import BatchNormalization\n",
    "\n",
    "def build_mlp(input_shape, output_units=10, num_neurons=[512, 256, 128]):\n",
    "    input_layer = keras.layers.Input(input_shape)\n",
    "    \n",
    "    for i, n_units in enumerate(num_neurons):\n",
    "        if i == 0:\n",
    "            x = keras.layers.Dense(units=n_units, \n",
    "                                   activation=\"relu\", \n",
    "                                   name=\"hidden_layer\"+str(i+1))(input_layer)\n",
    "            x = BatchNormalization()(x)\n",
    "        else:\n",
    "            x = keras.layers.Dense(units=n_units, \n",
    "                                   activation=\"relu\", \n",
    "                                   name=\"hidden_layer\"+str(i+1))(x)\n",
    "            x = BatchNormalization()(x)\n",
    "    \n",
    "    out = keras.layers.Dense(units=output_units, activation=\"softmax\", name=\"output\")(x)\n",
    "    \n",
    "    model = keras.models.Model(inputs=[input_layer], outputs=[out])\n",
    "    return model"
   ]
  },
  {
   "cell_type": "code",
   "execution_count": null,
   "metadata": {
    "colab": {},
    "colab_type": "code",
    "id": "cqF9xwd-Vqco"
   },
   "outputs": [],
   "source": [
    "## 超參數設定\n",
    "LEARNING_RATE = 1e-3\n",
    "EPOCHS = 50\n",
    "BATCH_SIZE = 1024\n",
    "MOMENTUM = 0.95"
   ]
  },
  {
   "cell_type": "markdown",
   "metadata": {
    "colab_type": "text",
    "id": "0vLZ_SfJVqcr"
   },
   "source": [
    "### save_best_only=True"
   ]
  },
  {
   "cell_type": "code",
   "execution_count": null,
   "metadata": {
    "colab": {},
    "colab_type": "code",
    "id": "T7D9O38GVqcs"
   },
   "outputs": [],
   "source": [
    "# 載入 Callbacks\n",
    "\n",
    "from keras.callbacks import ModelCheckpoint\n",
    "\n",
    "model_ckpt = ModelCheckpoint(filepath=\"./tmp.h5\", \n",
    "                             monitor=\"val_loss\", \n",
    "                             save_best_only=True\n",
    "                            )"
   ]
  },
  {
   "cell_type": "code",
   "execution_count": 9,
   "metadata": {
    "colab": {
     "base_uri": "https://localhost:8080/",
     "height": 1000
    },
    "colab_type": "code",
    "executionInfo": {
     "elapsed": 99774,
     "status": "ok",
     "timestamp": 1575453591231,
     "user": {
      "displayName": "林建宏",
      "photoUrl": "",
      "userId": "12416564836120847438"
     },
     "user_tz": -480
    },
    "id": "lsoPDyhcVqcx",
    "outputId": "6bf855dc-cda2-4fe9-d8d9-a068be0b4149"
   },
   "outputs": [
    {
     "name": "stdout",
     "output_type": "stream",
     "text": [
      "WARNING:tensorflow:From /usr/local/lib/python3.6/dist-packages/keras/backend/tensorflow_backend.py:66: The name tf.get_default_graph is deprecated. Please use tf.compat.v1.get_default_graph instead.\n",
      "\n",
      "WARNING:tensorflow:From /usr/local/lib/python3.6/dist-packages/keras/backend/tensorflow_backend.py:541: The name tf.placeholder is deprecated. Please use tf.compat.v1.placeholder instead.\n",
      "\n",
      "WARNING:tensorflow:From /usr/local/lib/python3.6/dist-packages/keras/backend/tensorflow_backend.py:4432: The name tf.random_uniform is deprecated. Please use tf.random.uniform instead.\n",
      "\n",
      "WARNING:tensorflow:From /usr/local/lib/python3.6/dist-packages/keras/backend/tensorflow_backend.py:148: The name tf.placeholder_with_default is deprecated. Please use tf.compat.v1.placeholder_with_default instead.\n",
      "\n",
      "Model: \"model_1\"\n",
      "_________________________________________________________________\n",
      "Layer (type)                 Output Shape              Param #   \n",
      "=================================================================\n",
      "input_1 (InputLayer)         (None, 3072)              0         \n",
      "_________________________________________________________________\n",
      "hidden_layer1 (Dense)        (None, 512)               1573376   \n",
      "_________________________________________________________________\n",
      "batch_normalization_1 (Batch (None, 512)               2048      \n",
      "_________________________________________________________________\n",
      "hidden_layer2 (Dense)        (None, 256)               131328    \n",
      "_________________________________________________________________\n",
      "batch_normalization_2 (Batch (None, 256)               1024      \n",
      "_________________________________________________________________\n",
      "hidden_layer3 (Dense)        (None, 128)               32896     \n",
      "_________________________________________________________________\n",
      "batch_normalization_3 (Batch (None, 128)               512       \n",
      "_________________________________________________________________\n",
      "output (Dense)               (None, 10)                1290      \n",
      "=================================================================\n",
      "Total params: 1,742,474\n",
      "Trainable params: 1,740,682\n",
      "Non-trainable params: 1,792\n",
      "_________________________________________________________________\n",
      "WARNING:tensorflow:From /usr/local/lib/python3.6/dist-packages/keras/optimizers.py:793: The name tf.train.Optimizer is deprecated. Please use tf.compat.v1.train.Optimizer instead.\n",
      "\n",
      "WARNING:tensorflow:From /usr/local/lib/python3.6/dist-packages/keras/backend/tensorflow_backend.py:3576: The name tf.log is deprecated. Please use tf.math.log instead.\n",
      "\n",
      "WARNING:tensorflow:From /usr/local/lib/python3.6/dist-packages/tensorflow_core/python/ops/math_grad.py:1424: where (from tensorflow.python.ops.array_ops) is deprecated and will be removed in a future version.\n",
      "Instructions for updating:\n",
      "Use tf.where in 2.0, which has the same broadcast rule as np.where\n",
      "WARNING:tensorflow:From /usr/local/lib/python3.6/dist-packages/keras/backend/tensorflow_backend.py:1033: The name tf.assign_add is deprecated. Please use tf.compat.v1.assign_add instead.\n",
      "\n",
      "WARNING:tensorflow:From /usr/local/lib/python3.6/dist-packages/keras/backend/tensorflow_backend.py:1020: The name tf.assign is deprecated. Please use tf.compat.v1.assign instead.\n",
      "\n",
      "WARNING:tensorflow:From /usr/local/lib/python3.6/dist-packages/keras/backend/tensorflow_backend.py:3005: The name tf.Session is deprecated. Please use tf.compat.v1.Session instead.\n",
      "\n",
      "Train on 50000 samples, validate on 10000 samples\n",
      "Epoch 1/50\n",
      "WARNING:tensorflow:From /usr/local/lib/python3.6/dist-packages/keras/backend/tensorflow_backend.py:190: The name tf.get_default_session is deprecated. Please use tf.compat.v1.get_default_session instead.\n",
      "\n",
      "WARNING:tensorflow:From /usr/local/lib/python3.6/dist-packages/keras/backend/tensorflow_backend.py:197: The name tf.ConfigProto is deprecated. Please use tf.compat.v1.ConfigProto instead.\n",
      "\n",
      "WARNING:tensorflow:From /usr/local/lib/python3.6/dist-packages/keras/backend/tensorflow_backend.py:207: The name tf.global_variables is deprecated. Please use tf.compat.v1.global_variables instead.\n",
      "\n",
      "WARNING:tensorflow:From /usr/local/lib/python3.6/dist-packages/keras/backend/tensorflow_backend.py:216: The name tf.is_variable_initialized is deprecated. Please use tf.compat.v1.is_variable_initialized instead.\n",
      "\n",
      "WARNING:tensorflow:From /usr/local/lib/python3.6/dist-packages/keras/backend/tensorflow_backend.py:223: The name tf.variables_initializer is deprecated. Please use tf.compat.v1.variables_initializer instead.\n",
      "\n",
      "50000/50000 [==============================] - 7s 139us/step - loss: 2.2506 - acc: 0.2614 - val_loss: 2.1816 - val_acc: 0.3075\n",
      "Epoch 2/50\n",
      "50000/50000 [==============================] - 2s 35us/step - loss: 1.7504 - acc: 0.3893 - val_loss: 1.8571 - val_acc: 0.3644\n",
      "Epoch 3/50\n",
      "50000/50000 [==============================] - 2s 35us/step - loss: 1.6237 - acc: 0.4311 - val_loss: 1.6884 - val_acc: 0.4119\n",
      "Epoch 4/50\n",
      "50000/50000 [==============================] - 2s 35us/step - loss: 1.5525 - acc: 0.4563 - val_loss: 1.6580 - val_acc: 0.4230\n",
      "Epoch 5/50\n",
      "50000/50000 [==============================] - 2s 34us/step - loss: 1.4957 - acc: 0.4765 - val_loss: 1.5983 - val_acc: 0.4402\n",
      "Epoch 6/50\n",
      "50000/50000 [==============================] - 2s 34us/step - loss: 1.4516 - acc: 0.4934 - val_loss: 1.5719 - val_acc: 0.4507\n",
      "Epoch 7/50\n",
      "50000/50000 [==============================] - 2s 34us/step - loss: 1.4123 - acc: 0.5090 - val_loss: 1.5588 - val_acc: 0.4534\n",
      "Epoch 8/50\n",
      "50000/50000 [==============================] - 2s 34us/step - loss: 1.3783 - acc: 0.5197 - val_loss: 1.5322 - val_acc: 0.4636\n",
      "Epoch 9/50\n",
      "50000/50000 [==============================] - 2s 34us/step - loss: 1.3457 - acc: 0.5310 - val_loss: 1.5233 - val_acc: 0.4696\n",
      "Epoch 10/50\n",
      "50000/50000 [==============================] - 2s 34us/step - loss: 1.3187 - acc: 0.5407 - val_loss: 1.5229 - val_acc: 0.4696\n",
      "Epoch 11/50\n",
      "50000/50000 [==============================] - 2s 34us/step - loss: 1.2893 - acc: 0.5525 - val_loss: 1.5019 - val_acc: 0.4746\n",
      "Epoch 12/50\n",
      "50000/50000 [==============================] - 2s 34us/step - loss: 1.2616 - acc: 0.5629 - val_loss: 1.4893 - val_acc: 0.4795\n",
      "Epoch 13/50\n",
      "50000/50000 [==============================] - 2s 34us/step - loss: 1.2365 - acc: 0.5723 - val_loss: 1.4976 - val_acc: 0.4763\n",
      "Epoch 14/50\n",
      "50000/50000 [==============================] - 2s 34us/step - loss: 1.2119 - acc: 0.5798 - val_loss: 1.4779 - val_acc: 0.4843\n",
      "Epoch 15/50\n",
      "50000/50000 [==============================] - 2s 34us/step - loss: 1.1877 - acc: 0.5901 - val_loss: 1.4687 - val_acc: 0.4902\n",
      "Epoch 16/50\n",
      "50000/50000 [==============================] - 2s 34us/step - loss: 1.1630 - acc: 0.5987 - val_loss: 1.4664 - val_acc: 0.4864\n",
      "Epoch 17/50\n",
      "50000/50000 [==============================] - 2s 34us/step - loss: 1.1406 - acc: 0.6070 - val_loss: 1.4772 - val_acc: 0.4869\n",
      "Epoch 18/50\n",
      "50000/50000 [==============================] - 2s 34us/step - loss: 1.1168 - acc: 0.6158 - val_loss: 1.4580 - val_acc: 0.4924\n",
      "Epoch 19/50\n",
      "50000/50000 [==============================] - 2s 34us/step - loss: 1.0949 - acc: 0.6252 - val_loss: 1.4549 - val_acc: 0.4950\n",
      "Epoch 20/50\n",
      "50000/50000 [==============================] - 2s 34us/step - loss: 1.0734 - acc: 0.6342 - val_loss: 1.4620 - val_acc: 0.4921\n",
      "Epoch 21/50\n",
      "50000/50000 [==============================] - 2s 34us/step - loss: 1.0524 - acc: 0.6409 - val_loss: 1.4622 - val_acc: 0.4963\n",
      "Epoch 22/50\n",
      "50000/50000 [==============================] - 2s 34us/step - loss: 1.0310 - acc: 0.6493 - val_loss: 1.4593 - val_acc: 0.4918\n",
      "Epoch 23/50\n",
      "50000/50000 [==============================] - 2s 34us/step - loss: 1.0092 - acc: 0.6579 - val_loss: 1.4634 - val_acc: 0.4936\n",
      "Epoch 24/50\n",
      "50000/50000 [==============================] - 2s 34us/step - loss: 0.9878 - acc: 0.6658 - val_loss: 1.4523 - val_acc: 0.4986\n",
      "Epoch 25/50\n",
      "50000/50000 [==============================] - 2s 34us/step - loss: 0.9684 - acc: 0.6753 - val_loss: 1.4608 - val_acc: 0.4945\n",
      "Epoch 26/50\n",
      "50000/50000 [==============================] - 2s 34us/step - loss: 0.9460 - acc: 0.6851 - val_loss: 1.4713 - val_acc: 0.4930\n",
      "Epoch 27/50\n",
      "50000/50000 [==============================] - 2s 34us/step - loss: 0.9270 - acc: 0.6884 - val_loss: 1.4946 - val_acc: 0.4876\n",
      "Epoch 28/50\n",
      "50000/50000 [==============================] - 2s 35us/step - loss: 0.9073 - acc: 0.6984 - val_loss: 1.4724 - val_acc: 0.5025\n",
      "Epoch 29/50\n",
      "50000/50000 [==============================] - 2s 34us/step - loss: 0.8876 - acc: 0.7048 - val_loss: 1.4878 - val_acc: 0.4942\n",
      "Epoch 30/50\n",
      "50000/50000 [==============================] - 2s 34us/step - loss: 0.8678 - acc: 0.7137 - val_loss: 1.4824 - val_acc: 0.4962\n",
      "Epoch 31/50\n",
      "50000/50000 [==============================] - 2s 34us/step - loss: 0.8463 - acc: 0.7214 - val_loss: 1.5000 - val_acc: 0.4952\n",
      "Epoch 32/50\n",
      "50000/50000 [==============================] - 2s 35us/step - loss: 0.8300 - acc: 0.7274 - val_loss: 1.5153 - val_acc: 0.4925\n",
      "Epoch 33/50\n",
      "50000/50000 [==============================] - 2s 34us/step - loss: 0.8089 - acc: 0.7353 - val_loss: 1.5148 - val_acc: 0.4914\n",
      "Epoch 34/50\n",
      "50000/50000 [==============================] - 2s 35us/step - loss: 0.7896 - acc: 0.7431 - val_loss: 1.4992 - val_acc: 0.4973\n",
      "Epoch 35/50\n",
      "50000/50000 [==============================] - 2s 34us/step - loss: 0.7682 - acc: 0.7516 - val_loss: 1.5242 - val_acc: 0.4981\n",
      "Epoch 36/50\n",
      "50000/50000 [==============================] - 2s 34us/step - loss: 0.7495 - acc: 0.7591 - val_loss: 1.5479 - val_acc: 0.4887\n",
      "Epoch 37/50\n",
      "50000/50000 [==============================] - 2s 34us/step - loss: 0.7301 - acc: 0.7678 - val_loss: 1.5572 - val_acc: 0.4959\n",
      "Epoch 38/50\n",
      "50000/50000 [==============================] - 2s 34us/step - loss: 0.7126 - acc: 0.7751 - val_loss: 1.5511 - val_acc: 0.4924\n",
      "Epoch 39/50\n",
      "50000/50000 [==============================] - 2s 34us/step - loss: 0.6944 - acc: 0.7810 - val_loss: 1.5568 - val_acc: 0.4913\n",
      "Epoch 40/50\n",
      "50000/50000 [==============================] - 2s 35us/step - loss: 0.6758 - acc: 0.7900 - val_loss: 1.5603 - val_acc: 0.4914\n",
      "Epoch 41/50\n",
      "50000/50000 [==============================] - 2s 34us/step - loss: 0.6567 - acc: 0.7971 - val_loss: 1.5742 - val_acc: 0.4963\n",
      "Epoch 42/50\n",
      "50000/50000 [==============================] - 2s 34us/step - loss: 0.6380 - acc: 0.8053 - val_loss: 1.5898 - val_acc: 0.4903\n",
      "Epoch 43/50\n",
      "50000/50000 [==============================] - 2s 34us/step - loss: 0.6217 - acc: 0.8105 - val_loss: 1.6088 - val_acc: 0.4942\n",
      "Epoch 44/50\n",
      "50000/50000 [==============================] - 2s 34us/step - loss: 0.6033 - acc: 0.8175 - val_loss: 1.5969 - val_acc: 0.4932\n",
      "Epoch 45/50\n",
      "50000/50000 [==============================] - 2s 34us/step - loss: 0.5873 - acc: 0.8222 - val_loss: 1.6122 - val_acc: 0.4897\n",
      "Epoch 46/50\n",
      "50000/50000 [==============================] - 2s 34us/step - loss: 0.5686 - acc: 0.8318 - val_loss: 1.6163 - val_acc: 0.4953\n",
      "Epoch 47/50\n",
      "50000/50000 [==============================] - 2s 34us/step - loss: 0.5508 - acc: 0.8397 - val_loss: 1.6272 - val_acc: 0.4961\n",
      "Epoch 48/50\n",
      "50000/50000 [==============================] - 2s 34us/step - loss: 0.5333 - acc: 0.8455 - val_loss: 1.6488 - val_acc: 0.4875\n",
      "Epoch 49/50\n",
      "50000/50000 [==============================] - 2s 35us/step - loss: 0.5193 - acc: 0.8515 - val_loss: 1.6631 - val_acc: 0.4913\n",
      "Epoch 50/50\n",
      "50000/50000 [==============================] - 2s 35us/step - loss: 0.5005 - acc: 0.8587 - val_loss: 1.6675 - val_acc: 0.4879\n",
      "10000/10000 [==============================] - 1s 104us/step\n"
     ]
    }
   ],
   "source": [
    "model = build_mlp(input_shape=x_train.shape[1:])\n",
    "model.summary()\n",
    "optimizer = keras.optimizers.SGD(lr=LEARNING_RATE, nesterov=True, momentum=MOMENTUM)\n",
    "model.compile(loss=\"categorical_crossentropy\", metrics=[\"accuracy\"], optimizer=optimizer)\n",
    "\n",
    "model.fit(x_train, y_train, \n",
    "          epochs=EPOCHS, \n",
    "          batch_size=BATCH_SIZE, \n",
    "          validation_data=(x_test, y_test), \n",
    "          shuffle=True,\n",
    "          callbacks=[model_ckpt]\n",
    "         )\n",
    "\n",
    "# Collect results\n",
    "train_loss = model.history.history[\"loss\"]\n",
    "valid_loss = model.history.history[\"val_loss\"]\n",
    "train_acc = model.history.history[\"acc\"]\n",
    "valid_acc = model.history.history[\"val_acc\"]\n",
    "\n",
    "# Load back\n",
    "model = keras.models.load_model(\"./tmp.h5\")\n",
    "loss_loadback, acc_loadback = model.evaluate(x_test, y_test)\n",
    "\n",
    "\n",
    "# pred_loadback = model.predict(x_test)"
   ]
  },
  {
   "cell_type": "code",
   "execution_count": 10,
   "metadata": {
    "colab": {
     "base_uri": "https://localhost:8080/",
     "height": 545
    },
    "colab_type": "code",
    "executionInfo": {
     "elapsed": 2211,
     "status": "ok",
     "timestamp": 1575453601547,
     "user": {
      "displayName": "林建宏",
      "photoUrl": "",
      "userId": "12416564836120847438"
     },
     "user_tz": -480
    },
    "id": "VVfWkOqfVqcz",
    "outputId": "b1776710-bfdd-4e45-e4f7-36a2f27da9ab"
   },
   "outputs": [
    {
     "data": {
      "image/png": "[encoded data removed]",
      "text/plain": [
       "<Figure size 432x288 with 1 Axes>"
      ]
     },
     "metadata": {
      "tags": []
     },
     "output_type": "display_data"
    },
    {
     "data": {
      "image/png": "[encoded data removed]",
      "text/plain": [
       "<Figure size 432x288 with 1 Axes>"
      ]
     },
     "metadata": {
      "tags": []
     },
     "output_type": "display_data"
    }
   ],
   "source": [
    "import matplotlib.pyplot as plt\n",
    "%matplotlib inline\n",
    "\n",
    "plt.plot(range(len(train_loss)), train_loss, label=\"train loss\")\n",
    "plt.plot(range(len(valid_loss)), valid_loss, label=\"valid loss\")\n",
    "plt.hlines(y=loss_loadback, xmin=0, xmax=len(train_loss), colors='r', linestyles='--')\n",
    "plt.legend()\n",
    "plt.title(\"Loss\")\n",
    "plt.show()\n",
    "\n",
    "plt.plot(range(len(train_acc)), train_acc, label=\"train accuracy\")\n",
    "plt.plot(range(len(valid_acc)), valid_acc, label=\"valid accuracy\")\n",
    "plt.hlines(y=acc_loadback, xmin=0, xmax=len(train_loss), colors='r', linestyles='--')\n",
    "plt.legend()\n",
    "plt.title(\"Accuracy\")\n",
    "plt.show()"
   ]
  },
  {
   "cell_type": "markdown",
   "metadata": {
    "colab_type": "text",
    "id": "fTmHgvwnVqc0"
   },
   "source": [
    "### save_best_only=False"
   ]
  },
  {
   "cell_type": "code",
   "execution_count": null,
   "metadata": {
    "colab": {},
    "colab_type": "code",
    "id": "GyNo84PhVqc2"
   },
   "outputs": [],
   "source": [
    "from keras.callbacks import ModelCheckpoint\n",
    "\n",
    "model_ckpt = ModelCheckpoint(filepath=\"./tmp.h5\", \n",
    "                             monitor=\"val_loss\", \n",
    "                             save_best_only=False)"
   ]
  },
  {
   "cell_type": "code",
   "execution_count": 13,
   "metadata": {
    "colab": {
     "base_uri": "https://localhost:8080/",
     "height": 1000
    },
    "colab_type": "code",
    "executionInfo": {
     "elapsed": 101125,
     "status": "ok",
     "timestamp": 1575453891865,
     "user": {
      "displayName": "林建宏",
      "photoUrl": "",
      "userId": "12416564836120847438"
     },
     "user_tz": -480
    },
    "id": "lGgpJjI8Vqc4",
    "outputId": "63b03954-0114-479e-e3a7-8f4fa8f551f5"
   },
   "outputs": [
    {
     "name": "stdout",
     "output_type": "stream",
     "text": [
      "Model: \"model_3\"\n",
      "_________________________________________________________________\n",
      "Layer (type)                 Output Shape              Param #   \n",
      "=================================================================\n",
      "input_3 (InputLayer)         (None, 3072)              0         \n",
      "_________________________________________________________________\n",
      "hidden_layer1 (Dense)        (None, 512)               1573376   \n",
      "_________________________________________________________________\n",
      "batch_normalization_7 (Batch (None, 512)               2048      \n",
      "_________________________________________________________________\n",
      "hidden_layer2 (Dense)        (None, 256)               131328    \n",
      "_________________________________________________________________\n",
      "batch_normalization_8 (Batch (None, 256)               1024      \n",
      "_________________________________________________________________\n",
      "hidden_layer3 (Dense)        (None, 128)               32896     \n",
      "_________________________________________________________________\n",
      "batch_normalization_9 (Batch (None, 128)               512       \n",
      "_________________________________________________________________\n",
      "output (Dense)               (None, 10)                1290      \n",
      "=================================================================\n",
      "Total params: 1,742,474\n",
      "Trainable params: 1,740,682\n",
      "Non-trainable params: 1,792\n",
      "_________________________________________________________________\n",
      "Train on 50000 samples, validate on 10000 samples\n",
      "Epoch 1/50\n",
      "50000/50000 [==============================] - 3s 58us/step - loss: 2.2053 - acc: 0.2728 - val_loss: 2.0383 - val_acc: 0.3167\n",
      "Epoch 2/50\n",
      "50000/50000 [==============================] - 2s 33us/step - loss: 1.7386 - acc: 0.3942 - val_loss: 1.7990 - val_acc: 0.3888\n",
      "Epoch 3/50\n",
      "50000/50000 [==============================] - 2s 34us/step - loss: 1.6096 - acc: 0.4372 - val_loss: 1.7013 - val_acc: 0.4090\n",
      "Epoch 4/50\n",
      "50000/50000 [==============================] - 2s 34us/step - loss: 1.5350 - acc: 0.4645 - val_loss: 1.6570 - val_acc: 0.4194\n",
      "Epoch 5/50\n",
      "50000/50000 [==============================] - 2s 34us/step - loss: 1.4818 - acc: 0.4831 - val_loss: 1.6121 - val_acc: 0.4436\n",
      "Epoch 6/50\n",
      "50000/50000 [==============================] - 2s 34us/step - loss: 1.4352 - acc: 0.5019 - val_loss: 1.5731 - val_acc: 0.4506\n",
      "Epoch 7/50\n",
      "50000/50000 [==============================] - 2s 34us/step - loss: 1.3981 - acc: 0.5142 - val_loss: 1.5584 - val_acc: 0.4519\n",
      "Epoch 8/50\n",
      "50000/50000 [==============================] - 2s 34us/step - loss: 1.3635 - acc: 0.5270 - val_loss: 1.5328 - val_acc: 0.4606\n",
      "Epoch 9/50\n",
      "50000/50000 [==============================] - 2s 35us/step - loss: 1.3315 - acc: 0.5388 - val_loss: 1.5257 - val_acc: 0.4665\n",
      "Epoch 10/50\n",
      "50000/50000 [==============================] - 2s 34us/step - loss: 1.3011 - acc: 0.5489 - val_loss: 1.5033 - val_acc: 0.4755\n",
      "Epoch 11/50\n",
      "50000/50000 [==============================] - 2s 35us/step - loss: 1.2735 - acc: 0.5591 - val_loss: 1.4928 - val_acc: 0.4766\n",
      "Epoch 12/50\n",
      "50000/50000 [==============================] - 2s 35us/step - loss: 1.2454 - acc: 0.5697 - val_loss: 1.4937 - val_acc: 0.4727\n",
      "Epoch 13/50\n",
      "50000/50000 [==============================] - 2s 34us/step - loss: 1.2210 - acc: 0.5782 - val_loss: 1.4881 - val_acc: 0.4797\n",
      "Epoch 14/50\n",
      "50000/50000 [==============================] - 2s 34us/step - loss: 1.1966 - acc: 0.5883 - val_loss: 1.4778 - val_acc: 0.4824\n",
      "Epoch 15/50\n",
      "50000/50000 [==============================] - 2s 34us/step - loss: 1.1731 - acc: 0.5976 - val_loss: 1.4776 - val_acc: 0.4848\n",
      "Epoch 16/50\n",
      "50000/50000 [==============================] - 2s 34us/step - loss: 1.1486 - acc: 0.6050 - val_loss: 1.4727 - val_acc: 0.4844\n",
      "Epoch 17/50\n",
      "50000/50000 [==============================] - 2s 33us/step - loss: 1.1274 - acc: 0.6134 - val_loss: 1.4689 - val_acc: 0.4895\n",
      "Epoch 18/50\n",
      "50000/50000 [==============================] - 2s 34us/step - loss: 1.1046 - acc: 0.6204 - val_loss: 1.4735 - val_acc: 0.4848\n",
      "Epoch 19/50\n",
      "50000/50000 [==============================] - 2s 33us/step - loss: 1.0852 - acc: 0.6299 - val_loss: 1.4571 - val_acc: 0.4925\n",
      "Epoch 20/50\n",
      "50000/50000 [==============================] - 2s 34us/step - loss: 1.0608 - acc: 0.6405 - val_loss: 1.4583 - val_acc: 0.4944\n",
      "Epoch 21/50\n",
      "50000/50000 [==============================] - 2s 34us/step - loss: 1.0414 - acc: 0.6454 - val_loss: 1.4538 - val_acc: 0.4968\n",
      "Epoch 22/50\n",
      "50000/50000 [==============================] - 2s 35us/step - loss: 1.0195 - acc: 0.6539 - val_loss: 1.4589 - val_acc: 0.4913\n",
      "Epoch 23/50\n",
      "50000/50000 [==============================] - 2s 35us/step - loss: 1.0011 - acc: 0.6618 - val_loss: 1.4695 - val_acc: 0.4930\n",
      "Epoch 24/50\n",
      "50000/50000 [==============================] - 2s 34us/step - loss: 0.9788 - acc: 0.6699 - val_loss: 1.4838 - val_acc: 0.4910\n",
      "Epoch 25/50\n",
      "50000/50000 [==============================] - 2s 34us/step - loss: 0.9596 - acc: 0.6770 - val_loss: 1.4750 - val_acc: 0.4953\n",
      "Epoch 26/50\n",
      "50000/50000 [==============================] - 2s 34us/step - loss: 0.9391 - acc: 0.6857 - val_loss: 1.4635 - val_acc: 0.4956\n",
      "Epoch 27/50\n",
      "50000/50000 [==============================] - 2s 34us/step - loss: 0.9185 - acc: 0.6927 - val_loss: 1.4690 - val_acc: 0.4953\n",
      "Epoch 28/50\n",
      "50000/50000 [==============================] - 2s 34us/step - loss: 0.8978 - acc: 0.7029 - val_loss: 1.4715 - val_acc: 0.5029\n",
      "Epoch 29/50\n",
      "50000/50000 [==============================] - 2s 34us/step - loss: 0.8790 - acc: 0.7087 - val_loss: 1.4882 - val_acc: 0.4961\n",
      "Epoch 30/50\n",
      "50000/50000 [==============================] - 2s 35us/step - loss: 0.8585 - acc: 0.7171 - val_loss: 1.4665 - val_acc: 0.5012\n",
      "Epoch 31/50\n",
      "50000/50000 [==============================] - 2s 34us/step - loss: 0.8388 - acc: 0.7258 - val_loss: 1.4786 - val_acc: 0.4999\n",
      "Epoch 32/50\n",
      "50000/50000 [==============================] - 2s 33us/step - loss: 0.8222 - acc: 0.7322 - val_loss: 1.5169 - val_acc: 0.4941\n",
      "Epoch 33/50\n",
      "50000/50000 [==============================] - 2s 34us/step - loss: 0.8022 - acc: 0.7396 - val_loss: 1.4937 - val_acc: 0.4942\n",
      "Epoch 34/50\n",
      "50000/50000 [==============================] - 2s 35us/step - loss: 0.7830 - acc: 0.7470 - val_loss: 1.5011 - val_acc: 0.4987\n",
      "Epoch 35/50\n",
      "50000/50000 [==============================] - 2s 34us/step - loss: 0.7616 - acc: 0.7575 - val_loss: 1.5247 - val_acc: 0.4946\n",
      "Epoch 36/50\n",
      "50000/50000 [==============================] - 2s 34us/step - loss: 0.7470 - acc: 0.7615 - val_loss: 1.5081 - val_acc: 0.4997\n",
      "Epoch 37/50\n",
      "50000/50000 [==============================] - 2s 34us/step - loss: 0.7278 - acc: 0.7680 - val_loss: 1.5385 - val_acc: 0.4940\n",
      "Epoch 38/50\n",
      "50000/50000 [==============================] - 2s 33us/step - loss: 0.7090 - acc: 0.7777 - val_loss: 1.5358 - val_acc: 0.4942\n",
      "Epoch 39/50\n",
      "50000/50000 [==============================] - 2s 33us/step - loss: 0.6915 - acc: 0.7842 - val_loss: 1.5569 - val_acc: 0.4941\n",
      "Epoch 40/50\n",
      "50000/50000 [==============================] - 2s 34us/step - loss: 0.6706 - acc: 0.7920 - val_loss: 1.5433 - val_acc: 0.4945\n",
      "Epoch 41/50\n",
      "50000/50000 [==============================] - 2s 33us/step - loss: 0.6526 - acc: 0.7982 - val_loss: 1.5787 - val_acc: 0.4917\n",
      "Epoch 42/50\n",
      "50000/50000 [==============================] - 2s 34us/step - loss: 0.6375 - acc: 0.8055 - val_loss: 1.5732 - val_acc: 0.4981\n",
      "Epoch 43/50\n",
      "50000/50000 [==============================] - 2s 34us/step - loss: 0.6193 - acc: 0.8121 - val_loss: 1.5891 - val_acc: 0.4966\n",
      "Epoch 44/50\n",
      "50000/50000 [==============================] - 2s 34us/step - loss: 0.6019 - acc: 0.8187 - val_loss: 1.5931 - val_acc: 0.4892\n",
      "Epoch 45/50\n",
      "50000/50000 [==============================] - 2s 35us/step - loss: 0.5825 - acc: 0.8263 - val_loss: 1.6109 - val_acc: 0.4925\n",
      "Epoch 46/50\n",
      "50000/50000 [==============================] - 2s 34us/step - loss: 0.5668 - acc: 0.8338 - val_loss: 1.6126 - val_acc: 0.4905\n",
      "Epoch 47/50\n",
      "50000/50000 [==============================] - 2s 33us/step - loss: 0.5511 - acc: 0.8392 - val_loss: 1.6189 - val_acc: 0.4963\n",
      "Epoch 48/50\n",
      "50000/50000 [==============================] - 2s 33us/step - loss: 0.5326 - acc: 0.8470 - val_loss: 1.6419 - val_acc: 0.4904\n",
      "Epoch 49/50\n",
      "50000/50000 [==============================] - 2s 33us/step - loss: 0.5170 - acc: 0.8536 - val_loss: 1.6456 - val_acc: 0.4913\n",
      "Epoch 50/50\n",
      "50000/50000 [==============================] - 2s 34us/step - loss: 0.5017 - acc: 0.8592 - val_loss: 1.6797 - val_acc: 0.4856\n",
      "10000/10000 [==============================] - 1s 123us/step\n"
     ]
    }
   ],
   "source": [
    "model = build_mlp(input_shape=x_train.shape[1:])\n",
    "model.summary()\n",
    "optimizer = keras.optimizers.SGD(lr=LEARNING_RATE, nesterov=True, momentum=MOMENTUM)\n",
    "model.compile(loss=\"categorical_crossentropy\", metrics=[\"accuracy\"], optimizer=optimizer)\n",
    "\n",
    "model.fit(x_train, y_train, \n",
    "          epochs=EPOCHS, \n",
    "          batch_size=BATCH_SIZE, \n",
    "          validation_data=(x_test, y_test), \n",
    "          shuffle=True,\n",
    "          callbacks=[model_ckpt]\n",
    "         )\n",
    "\n",
    "# Collect results\n",
    "train_loss = model.history.history[\"loss\"]\n",
    "valid_loss = model.history.history[\"val_loss\"]\n",
    "train_acc = model.history.history[\"acc\"]\n",
    "valid_acc = model.history.history[\"val_acc\"]\n",
    "\n",
    "# Load back\n",
    "model = keras.models.load_model(\"./tmp.h5\")\n",
    "loss_loadback, acc_loadback = model.evaluate(x_test, y_test)"
   ]
  },
  {
   "cell_type": "code",
   "execution_count": 14,
   "metadata": {
    "colab": {
     "base_uri": "https://localhost:8080/",
     "height": 545
    },
    "colab_type": "code",
    "executionInfo": {
     "elapsed": 2012,
     "status": "ok",
     "timestamp": 1575453909747,
     "user": {
      "displayName": "林建宏",
      "photoUrl": "",
      "userId": "12416564836120847438"
     },
     "user_tz": -480
    },
    "id": "R3-vjNeMVqc6",
    "outputId": "3d4012a2-884e-4551-dcd5-1cd87256af07"
   },
   "outputs": [
    {
     "data": {
      "image/png": "[encoded data removed]",
      "text/plain": [
       "<Figure size 432x288 with 1 Axes>"
      ]
     },
     "metadata": {
      "tags": []
     },
     "output_type": "display_data"
    },
    {
     "data": {
      "image/png": "[encoded data removed]",
      "text/plain": [
       "<Figure size 432x288 with 1 Axes>"
      ]
     },
     "metadata": {
      "tags": []
     },
     "output_type": "display_data"
    }
   ],
   "source": [
    "\n",
    "import matplotlib.pyplot as plt\n",
    "%matplotlib inline\n",
    "\n",
    "plt.plot(range(len(train_loss)), train_loss, label=\"train loss\")\n",
    "plt.plot(range(len(valid_loss)), valid_loss, label=\"valid loss\")\n",
    "plt.hlines(y=loss_loadback, xmin=0, xmax=len(train_loss), colors='r', linestyles='--')\n",
    "plt.legend()\n",
    "plt.title(\"Loss\")\n",
    "plt.show()\n",
    "\n",
    "plt.plot(range(len(train_acc)), train_acc, label=\"train accuracy\")\n",
    "plt.plot(range(len(valid_acc)), valid_acc, label=\"valid accuracy\")\n",
    "plt.hlines(y=acc_loadback, xmin=0, xmax=len(train_loss), colors='r', linestyles='--')\n",
    "plt.legend()\n",
    "plt.title(\"Accuracy\")\n",
    "plt.show()"
   ]
  },
  {
   "cell_type": "markdown",
   "metadata": {
    "colab_type": "text",
    "id": "Rf_dlDf8Vqc8"
   },
   "source": [
    "### 僅存入將 save_weights_only 設定為 True"
   ]
  },
  {
   "cell_type": "code",
   "execution_count": 16,
   "metadata": {
    "colab": {
     "base_uri": "https://localhost:8080/",
     "height": 1000
    },
    "colab_type": "code",
    "executionInfo": {
     "elapsed": 94095,
     "status": "ok",
     "timestamp": 1575454155276,
     "user": {
      "displayName": "林建宏",
      "photoUrl": "",
      "userId": "12416564836120847438"
     },
     "user_tz": -480
    },
    "id": "G9bIMY4AVqc9",
    "outputId": "ac4385d1-7a59-4f2d-be2a-a28631ec6f00"
   },
   "outputs": [
    {
     "name": "stdout",
     "output_type": "stream",
     "text": [
      "Model: \"model_5\"\n",
      "_________________________________________________________________\n",
      "Layer (type)                 Output Shape              Param #   \n",
      "=================================================================\n",
      "input_5 (InputLayer)         (None, 3072)              0         \n",
      "_________________________________________________________________\n",
      "hidden_layer1 (Dense)        (None, 512)               1573376   \n",
      "_________________________________________________________________\n",
      "batch_normalization_13 (Batc (None, 512)               2048      \n",
      "_________________________________________________________________\n",
      "hidden_layer2 (Dense)        (None, 256)               131328    \n",
      "_________________________________________________________________\n",
      "batch_normalization_14 (Batc (None, 256)               1024      \n",
      "_________________________________________________________________\n",
      "hidden_layer3 (Dense)        (None, 128)               32896     \n",
      "_________________________________________________________________\n",
      "batch_normalization_15 (Batc (None, 128)               512       \n",
      "_________________________________________________________________\n",
      "output (Dense)               (None, 10)                1290      \n",
      "=================================================================\n",
      "Total params: 1,742,474\n",
      "Trainable params: 1,740,682\n",
      "Non-trainable params: 1,792\n",
      "_________________________________________________________________\n",
      "Train on 50000 samples, validate on 10000 samples\n",
      "Epoch 1/50\n",
      "50000/50000 [==============================] - 3s 66us/step - loss: 2.2123 - acc: 0.2681 - val_loss: 2.0662 - val_acc: 0.3164\n",
      "Epoch 2/50\n",
      "50000/50000 [==============================] - 2s 33us/step - loss: 1.7538 - acc: 0.3893 - val_loss: 1.7929 - val_acc: 0.3773\n",
      "Epoch 3/50\n",
      "50000/50000 [==============================] - 2s 33us/step - loss: 1.6262 - acc: 0.4308 - val_loss: 1.6935 - val_acc: 0.4016\n",
      "Epoch 4/50\n",
      "50000/50000 [==============================] - 2s 34us/step - loss: 1.5515 - acc: 0.4569 - val_loss: 1.6385 - val_acc: 0.4223\n",
      "Epoch 5/50\n",
      "50000/50000 [==============================] - 2s 34us/step - loss: 1.4968 - acc: 0.4765 - val_loss: 1.5949 - val_acc: 0.4446\n",
      "Epoch 6/50\n",
      "50000/50000 [==============================] - 2s 34us/step - loss: 1.4525 - acc: 0.4927 - val_loss: 1.5667 - val_acc: 0.4487\n",
      "Epoch 7/50\n",
      "50000/50000 [==============================] - 2s 34us/step - loss: 1.4125 - acc: 0.5058 - val_loss: 1.5560 - val_acc: 0.4520\n",
      "Epoch 8/50\n",
      "50000/50000 [==============================] - 2s 34us/step - loss: 1.3782 - acc: 0.5203 - val_loss: 1.5339 - val_acc: 0.4595\n",
      "Epoch 9/50\n",
      "50000/50000 [==============================] - 2s 34us/step - loss: 1.3468 - acc: 0.5308 - val_loss: 1.5107 - val_acc: 0.4678\n",
      "Epoch 10/50\n",
      "50000/50000 [==============================] - 2s 34us/step - loss: 1.3164 - acc: 0.5415 - val_loss: 1.5004 - val_acc: 0.4712\n",
      "Epoch 11/50\n",
      "50000/50000 [==============================] - 2s 34us/step - loss: 1.2877 - acc: 0.5537 - val_loss: 1.4983 - val_acc: 0.4744\n",
      "Epoch 12/50\n",
      "50000/50000 [==============================] - 2s 34us/step - loss: 1.2612 - acc: 0.5618 - val_loss: 1.4771 - val_acc: 0.4821\n",
      "Epoch 13/50\n",
      "50000/50000 [==============================] - 2s 34us/step - loss: 1.2370 - acc: 0.5727 - val_loss: 1.4772 - val_acc: 0.4822\n",
      "Epoch 14/50\n",
      "50000/50000 [==============================] - 2s 33us/step - loss: 1.2115 - acc: 0.5821 - val_loss: 1.4662 - val_acc: 0.4846\n",
      "Epoch 15/50\n",
      "50000/50000 [==============================] - 2s 34us/step - loss: 1.1894 - acc: 0.5915 - val_loss: 1.4632 - val_acc: 0.4876\n",
      "Epoch 16/50\n",
      "50000/50000 [==============================] - 2s 34us/step - loss: 1.1649 - acc: 0.5993 - val_loss: 1.4619 - val_acc: 0.4897\n",
      "Epoch 17/50\n",
      "50000/50000 [==============================] - 2s 34us/step - loss: 1.1423 - acc: 0.6075 - val_loss: 1.4766 - val_acc: 0.4879\n",
      "Epoch 18/50\n",
      "50000/50000 [==============================] - 2s 34us/step - loss: 1.1218 - acc: 0.6149 - val_loss: 1.4533 - val_acc: 0.4907\n",
      "Epoch 19/50\n",
      "50000/50000 [==============================] - 2s 34us/step - loss: 1.0981 - acc: 0.6240 - val_loss: 1.4476 - val_acc: 0.4943\n",
      "Epoch 20/50\n",
      "50000/50000 [==============================] - 2s 34us/step - loss: 1.0764 - acc: 0.6333 - val_loss: 1.4490 - val_acc: 0.4979\n",
      "Epoch 21/50\n",
      "50000/50000 [==============================] - 2s 34us/step - loss: 1.0548 - acc: 0.6422 - val_loss: 1.4526 - val_acc: 0.4947\n",
      "Epoch 22/50\n",
      "50000/50000 [==============================] - 2s 33us/step - loss: 1.0348 - acc: 0.6489 - val_loss: 1.4454 - val_acc: 0.4960\n",
      "Epoch 23/50\n",
      "50000/50000 [==============================] - 2s 34us/step - loss: 1.0145 - acc: 0.6587 - val_loss: 1.4498 - val_acc: 0.4978\n",
      "Epoch 24/50\n",
      "50000/50000 [==============================] - 2s 34us/step - loss: 0.9928 - acc: 0.6670 - val_loss: 1.4656 - val_acc: 0.4935\n",
      "Epoch 25/50\n",
      "50000/50000 [==============================] - 2s 34us/step - loss: 0.9735 - acc: 0.6713 - val_loss: 1.4594 - val_acc: 0.4935\n",
      "Epoch 26/50\n",
      "50000/50000 [==============================] - 2s 34us/step - loss: 0.9543 - acc: 0.6802 - val_loss: 1.4703 - val_acc: 0.4930\n",
      "Epoch 27/50\n",
      "50000/50000 [==============================] - 2s 34us/step - loss: 0.9330 - acc: 0.6876 - val_loss: 1.4584 - val_acc: 0.4972\n",
      "Epoch 28/50\n",
      "50000/50000 [==============================] - 2s 34us/step - loss: 0.9124 - acc: 0.6961 - val_loss: 1.4647 - val_acc: 0.4960\n",
      "Epoch 29/50\n",
      "50000/50000 [==============================] - 2s 34us/step - loss: 0.8927 - acc: 0.7054 - val_loss: 1.4661 - val_acc: 0.5010\n",
      "Epoch 30/50\n",
      "50000/50000 [==============================] - 2s 35us/step - loss: 0.8725 - acc: 0.7118 - val_loss: 1.4853 - val_acc: 0.4952\n",
      "Epoch 31/50\n",
      "50000/50000 [==============================] - 2s 35us/step - loss: 0.8526 - acc: 0.7189 - val_loss: 1.4852 - val_acc: 0.4972\n",
      "Epoch 32/50\n",
      "50000/50000 [==============================] - 2s 35us/step - loss: 0.8361 - acc: 0.7263 - val_loss: 1.4828 - val_acc: 0.4986\n",
      "Epoch 33/50\n",
      "50000/50000 [==============================] - 2s 36us/step - loss: 0.8146 - acc: 0.7335 - val_loss: 1.4861 - val_acc: 0.4967\n",
      "Epoch 34/50\n",
      "50000/50000 [==============================] - 2s 36us/step - loss: 0.7987 - acc: 0.7414 - val_loss: 1.4866 - val_acc: 0.5017\n",
      "Epoch 35/50\n",
      "50000/50000 [==============================] - 2s 34us/step - loss: 0.7762 - acc: 0.7497 - val_loss: 1.4948 - val_acc: 0.5010\n",
      "Epoch 36/50\n",
      "50000/50000 [==============================] - 2s 34us/step - loss: 0.7593 - acc: 0.7566 - val_loss: 1.5099 - val_acc: 0.4955\n",
      "Epoch 37/50\n",
      "50000/50000 [==============================] - 2s 35us/step - loss: 0.7405 - acc: 0.7641 - val_loss: 1.5210 - val_acc: 0.4972\n",
      "Epoch 38/50\n",
      "50000/50000 [==============================] - 2s 34us/step - loss: 0.7226 - acc: 0.7701 - val_loss: 1.5123 - val_acc: 0.5059\n",
      "Epoch 39/50\n",
      "50000/50000 [==============================] - 2s 34us/step - loss: 0.7023 - acc: 0.7793 - val_loss: 1.5248 - val_acc: 0.4981\n",
      "Epoch 40/50\n",
      "50000/50000 [==============================] - 2s 35us/step - loss: 0.6848 - acc: 0.7885 - val_loss: 1.5389 - val_acc: 0.4980\n",
      "Epoch 41/50\n",
      "50000/50000 [==============================] - 2s 34us/step - loss: 0.6670 - acc: 0.7921 - val_loss: 1.5429 - val_acc: 0.4991\n",
      "Epoch 42/50\n",
      "50000/50000 [==============================] - 2s 34us/step - loss: 0.6511 - acc: 0.7992 - val_loss: 1.5534 - val_acc: 0.4992\n",
      "Epoch 43/50\n",
      "50000/50000 [==============================] - 2s 34us/step - loss: 0.6314 - acc: 0.8082 - val_loss: 1.5492 - val_acc: 0.5004\n",
      "Epoch 44/50\n",
      "50000/50000 [==============================] - 2s 34us/step - loss: 0.6148 - acc: 0.8136 - val_loss: 1.5839 - val_acc: 0.4967\n",
      "Epoch 45/50\n",
      "50000/50000 [==============================] - 2s 34us/step - loss: 0.5975 - acc: 0.8190 - val_loss: 1.5827 - val_acc: 0.4941\n",
      "Epoch 46/50\n",
      "50000/50000 [==============================] - 2s 34us/step - loss: 0.5816 - acc: 0.8267 - val_loss: 1.5948 - val_acc: 0.4960\n",
      "Epoch 47/50\n",
      "50000/50000 [==============================] - 2s 34us/step - loss: 0.5639 - acc: 0.8345 - val_loss: 1.6013 - val_acc: 0.4954\n",
      "Epoch 48/50\n",
      "50000/50000 [==============================] - 2s 34us/step - loss: 0.5464 - acc: 0.8405 - val_loss: 1.6208 - val_acc: 0.4969\n",
      "Epoch 49/50\n",
      "50000/50000 [==============================] - 2s 35us/step - loss: 0.5297 - acc: 0.8479 - val_loss: 1.6537 - val_acc: 0.4931\n",
      "Epoch 50/50\n",
      "50000/50000 [==============================] - 2s 34us/step - loss: 0.5152 - acc: 0.8520 - val_loss: 1.6517 - val_acc: 0.4905\n"
     ]
    }
   ],
   "source": [
    "import os\n",
    "import keras\n",
    "\n",
    "# 本範例不需使用 GPU, 將 GPU 設定為 \"無\"\n",
    "os.environ[\"CUDA_VISIBLE_DEVICES\"] = \"0\"\n",
    "\n",
    "train, test = keras.datasets.cifar10.load_data()\n",
    "\n",
    "## 資料前處理\n",
    "def preproc_x(x, flatten=True):\n",
    "    x = x / 255.\n",
    "    if flatten:\n",
    "        x = x.reshape((len(x), -1))\n",
    "    return x\n",
    "\n",
    "def preproc_y(y, num_classes=10):\n",
    "    if y.shape[-1] == 1:\n",
    "        y = keras.utils.to_categorical(y, num_classes)\n",
    "    return y    \n",
    "\n",
    "x_train, y_train = train\n",
    "x_test, y_test = test\n",
    "\n",
    "# 資料前處理 - X 標準化\n",
    "x_train = preproc_x(x_train)\n",
    "x_test = preproc_x(x_test)\n",
    "\n",
    "# 資料前處理 -Y 轉成 onehot\n",
    "y_train = preproc_y(y_train)\n",
    "y_test = preproc_y(y_test)\n",
    "\n",
    "from keras.layers import BatchNormalization\n",
    "\n",
    "\"\"\"\n",
    "建立神經網路，並加入 BN layer\n",
    "\"\"\"\n",
    "def build_mlp(input_shape, output_units=10, num_neurons=[512, 256, 128]):\n",
    "    input_layer = keras.layers.Input(input_shape)\n",
    "    \n",
    "    for i, n_units in enumerate(num_neurons):\n",
    "        if i == 0:\n",
    "            x = keras.layers.Dense(units=n_units, \n",
    "                                   activation=\"relu\", \n",
    "                                   name=\"hidden_layer\"+str(i+1))(input_layer)\n",
    "            x = BatchNormalization()(x)\n",
    "        else:\n",
    "            x = keras.layers.Dense(units=n_units, \n",
    "                                   activation=\"relu\", \n",
    "                                   name=\"hidden_layer\"+str(i+1))(x)\n",
    "            x = BatchNormalization()(x)\n",
    "    \n",
    "    out = keras.layers.Dense(units=output_units, activation=\"softmax\", name=\"output\")(x)\n",
    "    \n",
    "    model = keras.models.Model(inputs=[input_layer], outputs=[out])\n",
    "    return model\n",
    "## 超參數設定\n",
    "LEARNING_RATE = 1e-3\n",
    "EPOCHS = 50\n",
    "BATCH_SIZE = 1024\n",
    "MOMENTUM = 0.95\n",
    "\n",
    "\"\"\"\n",
    "# 載入 Callbacks, 並將監控目標設為 validation loss, 且只存最佳參數時的模型\n",
    "\"\"\"\n",
    "from keras.callbacks import ModelCheckpoint\n",
    "\n",
    "#將參數改為save_weights_only=True\n",
    "model_ckpt = ModelCheckpoint(filepath=\"./tmp.h5\", \n",
    "                             monitor=\"val_loss\", \n",
    "                             save_weights_only=True) # 2. 請僅存入將 save_weights_only 設定為 True\n",
    "\n",
    "model = build_mlp(input_shape=x_train.shape[1:])\n",
    "model.summary()\n",
    "\n",
    "optimizer = keras.optimizers.SGD(lr=LEARNING_RATE, nesterov=True, momentum=MOMENTUM)\n",
    "model.compile(loss=\"categorical_crossentropy\", metrics=[\"accuracy\"], optimizer=optimizer)\n",
    "\n",
    "model.fit(x_train, y_train, \n",
    "          epochs=EPOCHS, \n",
    "          batch_size=BATCH_SIZE, \n",
    "          validation_data=(x_test, y_test), \n",
    "          shuffle=True,\n",
    "          callbacks=[model_ckpt]\n",
    "         )\n",
    "\n",
    "# Collect results\n",
    "train_loss = model.history.history[\"loss\"]\n",
    "valid_loss = model.history.history[\"val_loss\"]\n",
    "train_acc = model.history.history[\"acc\"]\n",
    "valid_acc = model.history.history[\"val_acc\"]"
   ]
  },
  {
   "cell_type": "code",
   "execution_count": 17,
   "metadata": {
    "colab": {
     "base_uri": "https://localhost:8080/",
     "height": 101
    },
    "colab_type": "code",
    "executionInfo": {
     "elapsed": 4997,
     "status": "ok",
     "timestamp": 1575454185404,
     "user": {
      "displayName": "林建宏",
      "photoUrl": "",
      "userId": "12416564836120847438"
     },
     "user_tz": -480
    },
    "id": "87rfdeXqVqdB",
    "outputId": "75101aed-ea14-4eb3-caf1-1e6d7941d23d"
   },
   "outputs": [
    {
     "name": "stdout",
     "output_type": "stream",
     "text": [
      "10000/10000 [==============================] - 2s 200us/step\n",
      "loss_loadback 1.6517396932601929 \n",
      "\n",
      "acc_loadback 0.4905 \n",
      "\n"
     ]
    }
   ],
   "source": [
    "\n",
    "# Load back\n",
    "\n",
    "model = build_mlp(input_shape=x_train.shape[1:])\n",
    "model.load_weights(\"./tmp.h5\")\n",
    "\n",
    "## 超參數設定\n",
    "LEARNING_RATE = 1e-3\n",
    "EPOCHS = 50\n",
    "BATCH_SIZE = 1024\n",
    "MOMENTUM = 0.95\n",
    "\n",
    "optimizer = keras.optimizers.SGD(lr=LEARNING_RATE, nesterov=True, momentum=MOMENTUM)\n",
    "model.compile(loss=\"categorical_crossentropy\", metrics=[\"accuracy\"], optimizer=optimizer)\n",
    "\n",
    "# testing\n",
    "loss_loadback, acc_loadback = model.evaluate(x_test, y_test)\n",
    "\n",
    "print(\"loss_loadback\", loss_loadback, \"\\n\")\n",
    "print(\"acc_loadback\", acc_loadback, \"\\n\")"
   ]
  }
 ],
 "metadata": {
  "accelerator": "GPU",
  "colab": {
   "collapsed_sections": [],
   "name": "Day086_HW.ipynb",
   "provenance": []
  },
  "kernelspec": {
   "display_name": "Python 3",
   "language": "python",
   "name": "python3"
  },
  "language_info": {
   "codemirror_mode": {
    "name": "ipython",
    "version": 3
   },
   "file_extension": ".py",
   "mimetype": "text/x-python",
   "name": "python",
   "nbconvert_exporter": "python",
   "pygments_lexer": "ipython3",
   "version": "3.6.8"
  }
 },
 "nbformat": 4,
 "nbformat_minor": 4
}
